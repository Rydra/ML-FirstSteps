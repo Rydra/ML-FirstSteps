{
 "cells": [
  {
   "cell_type": "code",
   "execution_count": 3,
   "metadata": {
    "collapsed": false
   },
   "outputs": [],
   "source": [
    "%matplotlib inline\n",
    "import numpy as np\n",
    "from numpy import genfromtxt\n",
    "from sklearn import cross_validation\n",
    "from sklearn import datasets\n",
    "\n",
    "# This data has been obtained from the Machine Learning course from Coursera\n",
    "my_data = genfromtxt('/home/rydrael/projects/ML-FirstSteps/data/ex1data1.txt', delimiter=',')\n",
    "X = np.matrix(my_data[:, 0]).transpose()\n",
    "\n",
    "# This data is expressed as a n, 1 array. We need to invert it\n",
    "y = list(my_data[:, 1])\n",
    "\n"
   ]
  },
  {
   "cell_type": "code",
   "execution_count": null,
   "metadata": {
    "collapsed": true
   },
   "outputs": [],
   "source": []
  },
  {
   "cell_type": "markdown",
   "metadata": {},
   "source": [
    "Let's try several linear regression approaches. FIrst, let's plot "
   ]
  },
  {
   "cell_type": "code",
   "execution_count": 4,
   "metadata": {
    "collapsed": false
   },
   "outputs": [
    {
     "data": {
      "image/png": "[encoded data removed]",
      "text/plain": [
       "<matplotlib.figure.Figure at 0x7efecbcf3650>"
      ]
     },
     "metadata": {},
     "output_type": "display_data"
    }
   ],
   "source": [
    "from sklearn.linear_model import LinearRegression\n",
    "from scipy.stats import linregress\n",
    "import matplotlib.pyplot as plt\n",
    "\n",
    "plt.scatter(X, y)\n",
    "plt.show()\n",
    "\n",
    "# This function will help to easily compare classifiers\n",
    "def printScoresAndPlot(X, y, classifier):\n",
    "    print \"Training score: {0}\".format(classifier.score(X, y))\n",
    "    scores = cross_validation.cross_val_score(classifier, X, y, cv=5)\n",
    "    print \"CV score: {0}\".format(scores.mean())\n",
    "    plt.scatter(X, y)\n",
    "    plt.plot(X, classifier.predict(X), color=\"r\")\n",
    "    plt.show()"
   ]
  },
  {
   "cell_type": "code",
   "execution_count": null,
   "metadata": {
    "collapsed": false
   },
   "outputs": [],
   "source": []
  },
  {
   "cell_type": "code",
   "execution_count": 5,
   "metadata": {
    "collapsed": false
   },
   "outputs": [
    {
     "name": "stdout",
     "output_type": "stream",
     "text": [
      "Training score: 0.702031553784\n",
      "CV score: 0.312889181371\n"
     ]
    },
    {
     "data": {
      "image/png": "[encoded data removed]",
      "text/plain": [
       "<matplotlib.figure.Figure at 0x7efecbcd7f90>"
      ]
     },
     "metadata": {},
     "output_type": "display_data"
    },
    {
     "name": "stdout",
     "output_type": "stream",
     "text": [
      "Theta: [-3.89578088  1.19303364]\n"
     ]
    }
   ],
   "source": [
    "lr = LinearRegression()\n",
    "lr.fit(X, y)\n",
    "\n",
    "printScoresAndPlot(X, y, lr)\n",
    "\n",
    "print \"Theta: {0}\".format(np.array([lr.intercept_, lr.coef_]).flatten())"
   ]
  },
  {
   "cell_type": "code",
   "execution_count": 6,
   "metadata": {
    "collapsed": false
   },
   "outputs": [
    {
     "name": "stdout",
     "output_type": "stream",
     "text": [
      "0.702031553784\n"
     ]
    }
   ],
   "source": [
    "slope, intercept, rvalue, pvalue, stderr = linregress(my_data[:, 0], y)\n",
    "\n",
    "print rvalue ** 2"
   ]
  },
  {
   "cell_type": "markdown",
   "metadata": {},
   "source": [
    "linregress produces the same slope and intercept, however its interface is not as clean as the LinearRegression class. For your information, the p-value determines if the function fulfills the null hypothesis of \"slope = 0\". A lower value, the better. "
   ]
  },
  {
   "cell_type": "markdown",
   "metadata": {},
   "source": [
    "Use the polifit interface"
   ]
  },
  {
   "cell_type": "code",
   "execution_count": 12,
   "metadata": {
    "collapsed": false
   },
   "outputs": [
    {
     "name": "stdout",
     "output_type": "stream",
     "text": [
      "0.702031553784\n"
     ]
    },
    {
     "data": {
      "text/plain": [
       "[<matplotlib.lines.Line2D at 0x7efec7430b90>]"
      ]
     },
     "execution_count": 12,
     "metadata": {},
     "output_type": "execute_result"
    },
    {
     "data": {
      "image/png": "[encoded data removed]",
      "text/plain": [
       "<matplotlib.figure.Figure at 0x7efec7430a50>"
      ]
     },
     "metadata": {},
     "output_type": "display_data"
    }
   ],
   "source": [
    "from sklearn.metrics import r2_score\n",
    "\n",
    "predictor = np.poly1d(np.polyfit(my_data[:, 0], y, deg=1))\n",
    "r2 = r2_score(y, predictor(X))\n",
    "\n",
    "print r2\n",
    "\n",
    "plt.scatter(X, y)\n",
    "plt.plot(X, predictor(X), color=\"r\")"
   ]
  },
  {
   "cell_type": "code",
   "execution_count": 15,
   "metadata": {
    "collapsed": false
   },
   "outputs": [
    {
     "data": {
      "text/plain": [
       "array([ 0.00379118,  1.10087207, -3.45237794])"
      ]
     },
     "execution_count": 15,
     "metadata": {},
     "output_type": "execute_result"
    }
   ],
   "source": [
    "\n",
    "np.polyfit(my_data[:, 0], y, deg=2)"
   ]
  },
  {
   "cell_type": "code",
   "execution_count": null,
   "metadata": {
    "collapsed": true
   },
   "outputs": [],
   "source": []
  }
 ],
 "metadata": {
  "kernelspec": {
   "display_name": "Python 2",
   "language": "python",
   "name": "python2"
  },
  "language_info": {
   "codemirror_mode": {
    "name": "ipython",
    "version": 2
   },
   "file_extension": ".py",
   "mimetype": "text/x-python",
   "name": "python",
   "nbconvert_exporter": "python",
   "pygments_lexer": "ipython2",
   "version": "2.7.11"
  }
 },
 "nbformat": 4,
 "nbformat_minor": 0
}
