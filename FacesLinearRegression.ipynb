{
 "cells": [
  {
   "cell_type": "markdown",
   "metadata": {},
   "source": [
    "This example tests several regressors on a set of faces. Basically it tries to predict how the lower part of a face is depending on the top part."
   ]
  },
  {
   "cell_type": "code",
   "execution_count": 14,
   "metadata": {
    "collapsed": true
   },
   "outputs": [],
   "source": [
    "import numpy as np\n",
    "import matplotlib.pyplot as plt\n",
    "\n",
    "from sklearn.datasets import fetch_olivetti_faces\n",
    "from sklearn.utils.validation import check_random_state\n",
    "\n",
    "from sklearn.ensemble import ExtraTreesRegressor\n",
    "from sklearn.neighbors import KNeighborsRegressor\n",
    "from sklearn.linear_model import LinearRegression\n",
    "from sklearn.linear_model import RidgeCV\n",
    "from sklearn import cross_validation\n",
    "\n",
    "# Load the faces datasets\n",
    "data = fetch_olivetti_faces()\n",
    "targets = data.target\n",
    "originaldata = data.images\n",
    "\n",
    "# images have a shape of 64*64. The next line flattens them to a single array of pixels\n",
    "data = data.images.reshape((len(data.images), -1))"
   ]
  },
  {
   "cell_type": "code",
   "execution_count": 26,
   "metadata": {
    "collapsed": false
   },
   "outputs": [
    {
     "name": "stderr",
     "output_type": "stream",
     "text": [
      "/home/rydrael/Enthought/Canopy_64bit/User/lib/python2.7/site-packages/ipykernel/__main__.py:11: DeprecationWarning: using a non-integer number instead of an integer will result in an error in the future\n",
      "/home/rydrael/Enthought/Canopy_64bit/User/lib/python2.7/site-packages/ipykernel/__main__.py:12: DeprecationWarning: using a non-integer number instead of an integer will result in an error in the future\n",
      "/home/rydrael/Enthought/Canopy_64bit/User/lib/python2.7/site-packages/ipykernel/__main__.py:13: DeprecationWarning: using a non-integer number instead of an integer will result in an error in the future\n",
      "/home/rydrael/Enthought/Canopy_64bit/User/lib/python2.7/site-packages/ipykernel/__main__.py:14: DeprecationWarning: using a non-integer number instead of an integer will result in an error in the future\n"
     ]
    }
   ],
   "source": [
    "train, test = cross_validation.train_test_split(\n",
    "    data, test_size=0.4, random_state=0)\n",
    "\n",
    "# Test on a subset of people\n",
    "n_faces = 7\n",
    "rng = check_random_state(4)\n",
    "face_ids = rng.randint(test.shape[0], size=(n_faces, ))\n",
    "test = test[face_ids, :]\n",
    "\n",
    "n_pixels = data.shape[1]\n",
    "X_train = train[:, :np.ceil(0.5 * n_pixels)]  # Upper half of the faces\n",
    "y_train = train[:, np.floor(0.5 * n_pixels):]  # Lower half of the faces\n",
    "X_test = test[:, :np.ceil(0.5 * n_pixels)]\n",
    "y_test = test[:, np.floor(0.5 * n_pixels):]\n",
    "\n",
    "# Fit estimators\n",
    "ESTIMATORS = {\n",
    "    \"True faces\" : None, #line to print the true face\n",
    "    \"Extra trees\": ExtraTreesRegressor(n_estimators=10, max_features=32,\n",
    "                                       random_state=0),\n",
    "    \"K-nn\": KNeighborsRegressor(),\n",
    "    \"Linear regression\": LinearRegression(),\n",
    "    \"Ridge\": RidgeCV(),\n",
    "}\n",
    "\n",
    "# for each estimator, train and predict the estimations for the lower part\n",
    "y_test_predict = dict()\n",
    "\n",
    "y_test_predict[\"True faces\"] = y_test\n",
    "for name, estimator in ESTIMATORS.items():\n",
    "    if estimator is not None:\n",
    "        estimator.fit(X_train, y_train)\n",
    "        y_test_predict[name] = estimator.predict(X_test)\n",
    "\n",
    "# Plot the completed faces\n",
    "image_shape = (64, 64)\n",
    "\n",
    "# Number of columns to print, 1 true face + 1 for each estimator\n",
    "n_cols = len(ESTIMATORS)\n",
    "plt.figure(figsize=(2. * n_cols, 2.26 * n_faces))\n",
    "plt.suptitle(\"Face completion with multi-output estimators\", size=16)\n",
    "\n",
    "def printImage(pixels, subplot):\n",
    "    subplot.axis(\"off\")\n",
    "    subplot.imshow(pixels.reshape(image_shape),\n",
    "               cmap=plt.cm.gray,\n",
    "               interpolation=\"nearest\")\n",
    "    \n",
    "# plot each face and their \n",
    "for i in range(n_faces):\n",
    "    \n",
    "    # Show the rest of the faces\n",
    "    for j, est in enumerate(ESTIMATORS):\n",
    "        completed_face = np.hstack((X_test[i], y_test_predict[est][i]))\n",
    "\n",
    "        if i:\n",
    "            sub = plt.subplot(n_faces, n_cols, i * n_cols + 1 + j)\n",
    "\n",
    "        else:\n",
    "            sub = plt.subplot(n_faces, n_cols, i * n_cols + 1 + j,\n",
    "                              title=est)\n",
    "\n",
    "        printImage(completed_face, sub)\n",
    "\n",
    "plt.show()"
   ]
  }
 ],
 "metadata": {
  "kernelspec": {
   "display_name": "Python 2",
   "language": "python",
   "name": "python2"
  },
  "language_info": {
   "codemirror_mode": {
    "name": "ipython",
    "version": 2
   },
   "file_extension": ".py",
   "mimetype": "text/x-python",
   "name": "python",
   "nbconvert_exporter": "python",
   "pygments_lexer": "ipython2",
   "version": "2.7.11"
  }
 },
 "nbformat": 4,
 "nbformat_minor": 0
}
